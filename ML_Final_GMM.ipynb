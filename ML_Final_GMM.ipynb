{
  "nbformat": 4,
  "nbformat_minor": 0,
  "metadata": {
    "colab": {
      "name": "UAS ML GMM",
      "provenance": []
    },
    "kernelspec": {
      "name": "python3",
      "display_name": "Python 3"
    },
    "language_info": {
      "name": "python"
    }
  },
  "cells": [
    {
      "cell_type": "markdown",
      "metadata": {
        "id": "LAt3jzhokyWi"
      },
      "source": [
        "# Matthew Liem 2301873182"
      ]
    },
    {
      "cell_type": "markdown",
      "metadata": {
        "id": "Vi45Zx4RIKRY"
      },
      "source": [
        "Untuk model GMM atau Gaussian Mixture kali ini saya implementasikan berdasarkan power point slide yang saya peroleh"
      ]
    },
    {
      "cell_type": "markdown",
      "metadata": {
        "id": "4Rw0Aoq2Imj7"
      },
      "source": [
        "Berikut adalah library yang akan kita gunakan dalam pembuatan model GMM"
      ]
    },
    {
      "cell_type": "code",
      "metadata": {
        "id": "uB0NZYcxLWUv"
      },
      "source": [
        "import numpy as np\n",
        "import pandas as pd\n",
        "from sklearn.mixture import GaussianMixture\n",
        "from scipy.stats import multivariate_normal\n",
        "import matplotlib.pyplot as plt\n",
        "from sklearn.cluster import KMeans\n",
        "from sklearn.metrics import silhouette_score"
      ],
      "execution_count": null,
      "outputs": []
    },
    {
      "cell_type": "code",
      "metadata": {
        "id": "A2m5p-7hL6hR"
      },
      "source": [
        "df = pd.read_csv ('UAS_ML2021_DATASET02.csv')"
      ],
      "execution_count": null,
      "outputs": []
    },
    {
      "cell_type": "code",
      "metadata": {
        "colab": {
          "base_uri": "https://localhost:8080/",
          "height": 419
        },
        "id": "Ao6X2FNmL6jk",
        "outputId": "07f18395-299f-4413-82ed-57811f7c8de9"
      },
      "source": [
        "df"
      ],
      "execution_count": null,
      "outputs": [
        {
          "output_type": "execute_result",
          "data": {
            "text/html": [
              "<div>\n",
              "<style scoped>\n",
              "    .dataframe tbody tr th:only-of-type {\n",
              "        vertical-align: middle;\n",
              "    }\n",
              "\n",
              "    .dataframe tbody tr th {\n",
              "        vertical-align: top;\n",
              "    }\n",
              "\n",
              "    .dataframe thead th {\n",
              "        text-align: right;\n",
              "    }\n",
              "</style>\n",
              "<table border=\"1\" class=\"dataframe\">\n",
              "  <thead>\n",
              "    <tr style=\"text-align: right;\">\n",
              "      <th></th>\n",
              "      <th>Atribut_01</th>\n",
              "      <th>Atribut_02</th>\n",
              "    </tr>\n",
              "  </thead>\n",
              "  <tbody>\n",
              "    <tr>\n",
              "      <th>0</th>\n",
              "      <td>67.062924</td>\n",
              "      <td>176.086355</td>\n",
              "    </tr>\n",
              "    <tr>\n",
              "      <th>1</th>\n",
              "      <td>68.804094</td>\n",
              "      <td>178.388669</td>\n",
              "    </tr>\n",
              "    <tr>\n",
              "      <th>2</th>\n",
              "      <td>60.930863</td>\n",
              "      <td>170.284496</td>\n",
              "    </tr>\n",
              "    <tr>\n",
              "      <th>3</th>\n",
              "      <td>59.733843</td>\n",
              "      <td>168.691992</td>\n",
              "    </tr>\n",
              "    <tr>\n",
              "      <th>4</th>\n",
              "      <td>65.431230</td>\n",
              "      <td>173.763679</td>\n",
              "    </tr>\n",
              "    <tr>\n",
              "      <th>...</th>\n",
              "      <td>...</td>\n",
              "      <td>...</td>\n",
              "    </tr>\n",
              "    <tr>\n",
              "      <th>495</th>\n",
              "      <td>59.976983</td>\n",
              "      <td>169.679741</td>\n",
              "    </tr>\n",
              "    <tr>\n",
              "      <th>496</th>\n",
              "      <td>66.423814</td>\n",
              "      <td>174.625574</td>\n",
              "    </tr>\n",
              "    <tr>\n",
              "      <th>497</th>\n",
              "      <td>53.604698</td>\n",
              "      <td>161.919208</td>\n",
              "    </tr>\n",
              "    <tr>\n",
              "      <th>498</th>\n",
              "      <td>50.433644</td>\n",
              "      <td>160.794875</td>\n",
              "    </tr>\n",
              "    <tr>\n",
              "      <th>499</th>\n",
              "      <td>60.224392</td>\n",
              "      <td>169.689709</td>\n",
              "    </tr>\n",
              "  </tbody>\n",
              "</table>\n",
              "<p>500 rows × 2 columns</p>\n",
              "</div>"
            ],
            "text/plain": [
              "     Atribut_01  Atribut_02\n",
              "0     67.062924  176.086355\n",
              "1     68.804094  178.388669\n",
              "2     60.930863  170.284496\n",
              "3     59.733843  168.691992\n",
              "4     65.431230  173.763679\n",
              "..          ...         ...\n",
              "495   59.976983  169.679741\n",
              "496   66.423814  174.625574\n",
              "497   53.604698  161.919208\n",
              "498   50.433644  160.794875\n",
              "499   60.224392  169.689709\n",
              "\n",
              "[500 rows x 2 columns]"
            ]
          },
          "metadata": {
            "tags": []
          },
          "execution_count": 3
        }
      ]
    },
    {
      "cell_type": "code",
      "metadata": {
        "id": "fhiZUhd43EB4"
      },
      "source": [
        "df = df.values"
      ],
      "execution_count": null,
      "outputs": []
    },
    {
      "cell_type": "code",
      "metadata": {
        "id": "0eOe-JG_L6lr"
      },
      "source": [
        "epoch = 5"
      ],
      "execution_count": null,
      "outputs": []
    },
    {
      "cell_type": "markdown",
      "metadata": {
        "id": "g2UI7TIzLNhV"
      },
      "source": [
        "Dengan bantuan library dari KMeans, saya mendapatkan silhouette score, dan kesimpulannya adalah dengan n_clusters = 3 atau yang berarti 3 clusters memiliki angka paling tinggi. Maka saya akan menggunakan 3 clusters pada model kali ini"
      ]
    },
    {
      "cell_type": "code",
      "metadata": {
        "colab": {
          "base_uri": "https://localhost:8080/"
        },
        "id": "nyqRUgQpKiVK",
        "outputId": "434b8cc7-973d-461b-f733-c82f4420374d"
      },
      "source": [
        "range_n_clusters = list (range(2,10))\n",
        "print (\"Number of clusters from 2 to 9: \\n\", range_n_clusters)\n",
        "\n",
        "for n_clusters in range_n_clusters:\n",
        "    clusterer = KMeans (n_clusters=n_clusters).fit(df)\n",
        "    preds = clusterer.predict(df)\n",
        "    centers = clusterer.cluster_centers_\n",
        "\n",
        "    score = silhouette_score (df, preds, metric='euclidean')\n",
        "    print (f\"For n_clusters = {n_clusters}, silhouette score is {score}\")"
      ],
      "execution_count": null,
      "outputs": [
        {
          "output_type": "stream",
          "text": [
            "Number of clusters from 2 to 9: \n",
            " [2, 3, 4, 5, 6, 7, 8, 9]\n",
            "For n_clusters = 2, silhouette score is 0.6616927494897498\n",
            "For n_clusters = 3, silhouette score is 0.7319913240956518\n",
            "For n_clusters = 4, silhouette score is 0.6023444178904074\n",
            "For n_clusters = 5, silhouette score is 0.5839457051451125\n",
            "For n_clusters = 6, silhouette score is 0.4931604326542722\n",
            "For n_clusters = 7, silhouette score is 0.44033562131734516\n",
            "For n_clusters = 8, silhouette score is 0.45461025291099755\n",
            "For n_clusters = 9, silhouette score is 0.44050172287926875\n"
          ],
          "name": "stdout"
        }
      ]
    },
    {
      "cell_type": "code",
      "metadata": {
        "id": "PyvxtF3_LHo9"
      },
      "source": [
        "cluster = 3"
      ],
      "execution_count": null,
      "outputs": []
    },
    {
      "cell_type": "markdown",
      "metadata": {
        "id": "xGZSZSR9Lc7k"
      },
      "source": [
        "Kemudian saya menginisialisasi means saya dengan bantuan dari KMeans. Saya membaca pada slide yang diberikan tertera bahwa disarankan untuk menggunakan cluster_centers untuk diinisialisasikan menjadi means awal"
      ]
    },
    {
      "cell_type": "code",
      "metadata": {
        "id": "v7vg2lSNIpV_"
      },
      "source": [
        "kmeans = KMeans (n_clusters=3).fit(df)\n",
        "means = kmeans.cluster_centers_"
      ],
      "execution_count": null,
      "outputs": []
    },
    {
      "cell_type": "code",
      "metadata": {
        "id": "TiZzuPG42DMM"
      },
      "source": [
        "mu = means\n",
        "sigma = [ np.cov(df.T) for _ in range(cluster) ]\n",
        "\n",
        "phi = np.full(shape=cluster, fill_value=1/cluster)\n",
        "likelihood = np.zeros((df.shape[0], df.shape[1]))\n",
        "\n",
        "responsibility = np.zeros((df.shape[0], df.shape[1]))"
      ],
      "execution_count": null,
      "outputs": []
    },
    {
      "cell_type": "code",
      "metadata": {
        "colab": {
          "base_uri": "https://localhost:8080/"
        },
        "id": "n4y7mSxq6bYM",
        "outputId": "4af6a3a6-312e-480e-a6fc-7f5189f5fb23"
      },
      "source": [
        "mu"
      ],
      "execution_count": null,
      "outputs": [
        {
          "output_type": "execute_result",
          "data": {
            "text/plain": [
              "array([[ 61.91101547, 169.61922731],\n",
              "       [ 53.60029808, 162.76478198],\n",
              "       [ 67.48040873, 175.86017523]])"
            ]
          },
          "metadata": {
            "tags": []
          },
          "execution_count": 10
        }
      ]
    },
    {
      "cell_type": "markdown",
      "metadata": {
        "id": "3xkXAElTOQk3"
      },
      "source": [
        "Dibawah ini adalah salah satu step yang diperlukan dalam GMM yaitu e-step untuk meng-evaluasi responsibilites"
      ]
    },
    {
      "cell_type": "code",
      "metadata": {
        "id": "qo0HNAtA2DKK"
      },
      "source": [
        "def e_step(data, likelihood, mu, sigma, responsibility, phi):\n",
        "    for i in range(df.shape[1]):\n",
        "        likelihood[:, i] = multivariate_normal.pdf(data, mu[i], sigma[i], allow_singular=True)\n",
        "        responsibility[:, i] = phi[i] * likelihood[:, i]\n",
        "\n",
        "    log_likelihood = np.sum(np.log(np.sum(responsibility, axis=1)))\n",
        "    total_responsibility = responsibility.sum(axis = 1, keepdims = 1) \n",
        "    responsibility = responsibility / total_responsibility\n",
        "    phi = responsibility.mean(axis=0)\n",
        "\n",
        "    return log_likelihood, responsibility, phi"
      ],
      "execution_count": null,
      "outputs": []
    },
    {
      "cell_type": "markdown",
      "metadata": {
        "id": "bH2RXk5SOl_f"
      },
      "source": [
        "Kemudian step terakhir adalah m-step atau yang akan digunakan untuk perhitungan ulang parameternya"
      ]
    },
    {
      "cell_type": "code",
      "metadata": {
        "id": "4OQv710l2DIN"
      },
      "source": [
        "def m_step(data, responsibility, mu, sigma):\n",
        "    for i in range(df.shape[1]):\n",
        "        weight = responsibility[:, [i]]\n",
        "        total_weight = weight.sum()\n",
        "        mu[i] = (data * weight).sum(axis=0) / total_weight\n",
        "        sigma[i] = np.cov(data.T, aweights=(weight/total_weight).flatten(), bias=True)\n",
        "   \n",
        "    phi = responsibility.mean (axis=0)\n",
        "    return mu, sigma"
      ],
      "execution_count": null,
      "outputs": []
    },
    {
      "cell_type": "code",
      "metadata": {
        "colab": {
          "base_uri": "https://localhost:8080/"
        },
        "id": "BLARYVPl2DGd",
        "outputId": "1df02f29-08d9-4dcc-c40d-f99c291a603d"
      },
      "source": [
        "for i in range(epoch):\n",
        "    log_likelihood, resp, phi = e_step(df, likelihood, mu, sigma, responsibility, phi)\n",
        "    mu, sigma = m_step(df, responsibility, mu, sigma)\n",
        "    \n",
        "    print (f'Epoch: {i+1}\\n     Means: \\t  {mu}\\n     Covariances: {sigma}\\n     Log Likelihood: {log_likelihood}')"
      ],
      "execution_count": null,
      "outputs": [
        {
          "output_type": "stream",
          "text": [
            "Epoch: 1\n",
            "     Means: \t  [[ 61.76640032 169.79549496]\n",
            " [ 55.88151946 164.8982767 ]\n",
            " [ 67.48040873 175.86017523]]\n",
            "     Covariances: [array([[17.95704785, 15.69038199],\n",
            "       [15.69038199, 15.25967384]]), array([[14.20300529, 12.86627284],\n",
            "       [12.86627284, 12.25341909]]), array([[27.00855478, 23.90917379],\n",
            "       [23.90917379, 23.08893902]])]\n",
            "     Log Likelihood: -2705.5526466852994\n",
            "Epoch: 2\n",
            "     Means: \t  [[ 61.78920644 170.03929386]\n",
            " [ 55.78258362 164.8873457 ]\n",
            " [ 67.48040873 175.86017523]]\n",
            "     Covariances: [array([[14.48225693, 12.62737208],\n",
            "       [12.62737208, 12.36985061]]), array([[11.21038361, 10.73844386],\n",
            "       [10.73844386, 10.55806688]]), array([[27.00855478, 23.90917379],\n",
            "       [23.90917379, 23.08893902]])]\n",
            "     Log Likelihood: -2399.3923135649648\n",
            "Epoch: 3\n",
            "     Means: \t  [[ 61.85514517 170.3020423 ]\n",
            " [ 55.60872044 164.73864144]\n",
            " [ 67.48040873 175.86017523]]\n",
            "     Covariances: [array([[12.23663844, 10.68863195],\n",
            "       [10.68863195, 10.49283595]]), array([[9.82751965, 9.63584024],\n",
            "       [9.63584024, 9.61132557]]), array([[27.00855478, 23.90917379],\n",
            "       [23.90917379, 23.08893902]])]\n",
            "     Log Likelihood: -2395.107280549584\n",
            "Epoch: 4\n",
            "     Means: \t  [[ 61.90299742 170.54605283]\n",
            " [ 55.37937863 164.51032894]\n",
            " [ 67.48040873 175.86017523]]\n",
            "     Covariances: [array([[10.50901675,  9.20994144],\n",
            "       [ 9.20994144,  8.96207212]]), array([[8.73567016, 8.6479407 ],\n",
            "       [8.6479407 , 8.67929608]]), array([[27.00855478, 23.90917379],\n",
            "       [23.90917379, 23.08893902]])]\n",
            "     Log Likelihood: -2446.127495320214\n",
            "Epoch: 5\n",
            "     Means: \t  [[ 61.88712353 170.72894941]\n",
            " [ 55.06095494 164.18545312]\n",
            " [ 67.48040873 175.86017523]]\n",
            "     Covariances: [array([[9.04366333, 7.96280028],\n",
            "       [7.96280028, 7.5744603 ]]), array([[7.39369792, 7.35214704],\n",
            "       [7.35214704, 7.40351836]]), array([[27.00855478, 23.90917379],\n",
            "       [23.90917379, 23.08893902]])]\n",
            "     Log Likelihood: -2573.4125008705723\n"
          ],
          "name": "stdout"
        }
      ]
    },
    {
      "cell_type": "markdown",
      "metadata": {
        "id": "kMP_8TgmO-Fd"
      },
      "source": [
        "Di bawah ini merupakan contoh penggunaan Library Gaussian Mixture dari sklearn"
      ]
    },
    {
      "cell_type": "code",
      "metadata": {
        "colab": {
          "base_uri": "https://localhost:8080/"
        },
        "id": "Bz6TsXTx-62h",
        "outputId": "7475a679-2885-48cd-8eff-28bb668e7c1d"
      },
      "source": [
        "gm = GaussianMixture (n_components=3).fit(df)\n",
        "\n",
        "print ('Means: ', gm.means_)\n",
        "print ('Covariances: ', gm.covariances_)\n",
        "print ('Log-Likelihood: ', gm.lower_bound_)"
      ],
      "execution_count": null,
      "outputs": [
        {
          "output_type": "stream",
          "text": [
            "Means:  [[ 53.60033358 162.76481242]\n",
            " [ 67.51790829 175.98376384]\n",
            " [ 61.98009686 169.65582731]]\n",
            "Covariances:  [[[1.2492903  0.95692202]\n",
            "  [0.95692202 1.02841322]]\n",
            "\n",
            " [[1.29074018 0.95716497]\n",
            "  [0.95716497 1.11963551]]\n",
            "\n",
            " [[3.1962323  0.5622464 ]\n",
            "  [0.5622464  1.27703526]]]\n",
            "Log-Likelihood:  -4.00111663821938\n"
          ],
          "name": "stdout"
        }
      ]
    },
    {
      "cell_type": "markdown",
      "metadata": {
        "id": "IEAAqZ3uPc0l"
      },
      "source": [
        "Angka di atas ini adalah angka dari means, covariance atau responsibility dan log likelihood yang akan didapatkan dari penggunaan library"
      ]
    },
    {
      "cell_type": "code",
      "metadata": {
        "colab": {
          "base_uri": "https://localhost:8080/",
          "height": 282
        },
        "id": "SP3Xjly1AU_E",
        "outputId": "e06d8ced-acc7-478c-8577-ca2314fe390f"
      },
      "source": [
        "labels = gm.predict (df)\n",
        "plt.scatter (df[:, 0], df[:, 1], c = labels, s = 40, cmap='viridis')"
      ],
      "execution_count": null,
      "outputs": [
        {
          "output_type": "execute_result",
          "data": {
            "text/plain": [
              "<matplotlib.collections.PathCollection at 0x7f594bb3f6d0>"
            ]
          },
          "metadata": {
            "tags": []
          },
          "execution_count": 15
        },
        {
          "output_type": "display_data",
          "data": {
            "image/png": "[encoded data removed]",
            "text/plain": [
              "<Figure size 432x288 with 1 Axes>"
            ]
          },
          "metadata": {
            "tags": [],
            "needs_background": "light"
          }
        }
      ]
    }
  ]
}